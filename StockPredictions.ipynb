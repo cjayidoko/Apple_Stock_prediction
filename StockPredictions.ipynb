{
 "cells": [
  {
   "cell_type": "code",
   "execution_count": 2,
   "metadata": {},
   "outputs": [],
   "source": [
    "# Getting the stocks of yahoo, apple, google, tesla"
   ]
  },
  {
   "cell_type": "code",
   "execution_count": 1,
   "metadata": {},
   "outputs": [],
   "source": [
    "import pandas as pd\n",
    "import pandas_datareader.data as web\n",
    "from datetime import datetime\n",
    "import numpy as np"
   ]
  },
  {
   "cell_type": "code",
   "execution_count": 2,
   "metadata": {},
   "outputs": [],
   "source": [
    "start = datetime(2016, 1, 1)\n",
    "end = datetime(2019, 12, 31)\n",
    "google = web.DataReader('GOOG', 'yahoo', start, end)\n",
    "tesla = web.DataReader('TSLA', 'yahoo', start, end)\n",
    "apple = web.DataReader('AAPL', 'yahoo', start, end)"
   ]
  },
  {
   "cell_type": "code",
   "execution_count": null,
   "metadata": {},
   "outputs": [],
   "source": []
  },
  {
   "cell_type": "markdown",
   "metadata": {},
   "source": [
    "## Predicting apple stock price for December 2019 using data fram January 2016 to end of november 2019"
   ]
  },
  {
   "cell_type": "code",
   "execution_count": 3,
   "metadata": {},
   "outputs": [
    {
     "data": {
      "text/plain": [
       "(1006, 6)"
      ]
     },
     "execution_count": 3,
     "metadata": {},
     "output_type": "execute_result"
    }
   ],
   "source": [
    "apple.shape#Take a look at the dataset shape,size"
   ]
  },
  {
   "cell_type": "code",
   "execution_count": 4,
   "metadata": {},
   "outputs": [
    {
     "data": {
      "text/html": [
       "<div>\n",
       "<style scoped>\n",
       "    .dataframe tbody tr th:only-of-type {\n",
       "        vertical-align: middle;\n",
       "    }\n",
       "\n",
       "    .dataframe tbody tr th {\n",
       "        vertical-align: top;\n",
       "    }\n",
       "\n",
       "    .dataframe thead th {\n",
       "        text-align: right;\n",
       "    }\n",
       "</style>\n",
       "<table border=\"1\" class=\"dataframe\">\n",
       "  <thead>\n",
       "    <tr style=\"text-align: right;\">\n",
       "      <th></th>\n",
       "      <th>High</th>\n",
       "      <th>Low</th>\n",
       "      <th>Open</th>\n",
       "      <th>Close</th>\n",
       "      <th>Volume</th>\n",
       "      <th>Adj Close</th>\n",
       "    </tr>\n",
       "    <tr>\n",
       "      <th>Date</th>\n",
       "      <th></th>\n",
       "      <th></th>\n",
       "      <th></th>\n",
       "      <th></th>\n",
       "      <th></th>\n",
       "      <th></th>\n",
       "    </tr>\n",
       "  </thead>\n",
       "  <tbody>\n",
       "    <tr>\n",
       "      <th>2019-11-22</th>\n",
       "      <td>263.179993</td>\n",
       "      <td>260.839996</td>\n",
       "      <td>262.589996</td>\n",
       "      <td>261.779999</td>\n",
       "      <td>16331300.0</td>\n",
       "      <td>261.779999</td>\n",
       "    </tr>\n",
       "    <tr>\n",
       "      <th>2019-11-25</th>\n",
       "      <td>266.440002</td>\n",
       "      <td>262.519989</td>\n",
       "      <td>262.709991</td>\n",
       "      <td>266.369995</td>\n",
       "      <td>21005100.0</td>\n",
       "      <td>266.369995</td>\n",
       "    </tr>\n",
       "    <tr>\n",
       "      <th>2019-11-26</th>\n",
       "      <td>267.160004</td>\n",
       "      <td>262.500000</td>\n",
       "      <td>266.940002</td>\n",
       "      <td>264.290009</td>\n",
       "      <td>26301900.0</td>\n",
       "      <td>264.290009</td>\n",
       "    </tr>\n",
       "    <tr>\n",
       "      <th>2019-11-27</th>\n",
       "      <td>267.980011</td>\n",
       "      <td>265.309998</td>\n",
       "      <td>265.579987</td>\n",
       "      <td>267.839996</td>\n",
       "      <td>16308900.0</td>\n",
       "      <td>267.839996</td>\n",
       "    </tr>\n",
       "    <tr>\n",
       "      <th>2019-11-29</th>\n",
       "      <td>268.000000</td>\n",
       "      <td>265.899994</td>\n",
       "      <td>266.600006</td>\n",
       "      <td>267.250000</td>\n",
       "      <td>11654400.0</td>\n",
       "      <td>267.250000</td>\n",
       "    </tr>\n",
       "  </tbody>\n",
       "</table>\n",
       "</div>"
      ],
      "text/plain": [
       "                  High         Low        Open       Close      Volume  \\\n",
       "Date                                                                     \n",
       "2019-11-22  263.179993  260.839996  262.589996  261.779999  16331300.0   \n",
       "2019-11-25  266.440002  262.519989  262.709991  266.369995  21005100.0   \n",
       "2019-11-26  267.160004  262.500000  266.940002  264.290009  26301900.0   \n",
       "2019-11-27  267.980011  265.309998  265.579987  267.839996  16308900.0   \n",
       "2019-11-29  268.000000  265.899994  266.600006  267.250000  11654400.0   \n",
       "\n",
       "             Adj Close  \n",
       "Date                    \n",
       "2019-11-22  261.779999  \n",
       "2019-11-25  266.369995  \n",
       "2019-11-26  264.290009  \n",
       "2019-11-27  267.839996  \n",
       "2019-11-29  267.250000  "
      ]
     },
     "execution_count": 4,
     "metadata": {},
     "output_type": "execute_result"
    }
   ],
   "source": [
    "apple[:-21].tail()#Tail of dataframe up until the december 2019"
   ]
  },
  {
   "cell_type": "code",
   "execution_count": 5,
   "metadata": {},
   "outputs": [],
   "source": [
    "train_df = apple[:-21]#Training set till end of November 2019"
   ]
  },
  {
   "cell_type": "code",
   "execution_count": 6,
   "metadata": {},
   "outputs": [
    {
     "data": {
      "text/html": [
       "<div>\n",
       "<style scoped>\n",
       "    .dataframe tbody tr th:only-of-type {\n",
       "        vertical-align: middle;\n",
       "    }\n",
       "\n",
       "    .dataframe tbody tr th {\n",
       "        vertical-align: top;\n",
       "    }\n",
       "\n",
       "    .dataframe thead th {\n",
       "        text-align: right;\n",
       "    }\n",
       "</style>\n",
       "<table border=\"1\" class=\"dataframe\">\n",
       "  <thead>\n",
       "    <tr style=\"text-align: right;\">\n",
       "      <th></th>\n",
       "      <th>High</th>\n",
       "      <th>Low</th>\n",
       "      <th>Open</th>\n",
       "      <th>Close</th>\n",
       "      <th>Volume</th>\n",
       "      <th>Adj Close</th>\n",
       "    </tr>\n",
       "    <tr>\n",
       "      <th>Date</th>\n",
       "      <th></th>\n",
       "      <th></th>\n",
       "      <th></th>\n",
       "      <th></th>\n",
       "      <th></th>\n",
       "      <th></th>\n",
       "    </tr>\n",
       "  </thead>\n",
       "  <tbody>\n",
       "    <tr>\n",
       "      <th>2016-01-04</th>\n",
       "      <td>105.370003</td>\n",
       "      <td>102.000000</td>\n",
       "      <td>102.610001</td>\n",
       "      <td>105.349998</td>\n",
       "      <td>67649400.0</td>\n",
       "      <td>98.446655</td>\n",
       "    </tr>\n",
       "    <tr>\n",
       "      <th>2016-01-05</th>\n",
       "      <td>105.849998</td>\n",
       "      <td>102.410004</td>\n",
       "      <td>105.750000</td>\n",
       "      <td>102.709999</td>\n",
       "      <td>55791000.0</td>\n",
       "      <td>95.979675</td>\n",
       "    </tr>\n",
       "    <tr>\n",
       "      <th>2016-01-06</th>\n",
       "      <td>102.370003</td>\n",
       "      <td>99.870003</td>\n",
       "      <td>100.559998</td>\n",
       "      <td>100.699997</td>\n",
       "      <td>68457400.0</td>\n",
       "      <td>94.101387</td>\n",
       "    </tr>\n",
       "    <tr>\n",
       "      <th>2016-01-07</th>\n",
       "      <td>100.129997</td>\n",
       "      <td>96.430000</td>\n",
       "      <td>98.680000</td>\n",
       "      <td>96.449997</td>\n",
       "      <td>81094400.0</td>\n",
       "      <td>90.129868</td>\n",
       "    </tr>\n",
       "    <tr>\n",
       "      <th>2016-01-08</th>\n",
       "      <td>99.110001</td>\n",
       "      <td>96.760002</td>\n",
       "      <td>98.550003</td>\n",
       "      <td>96.959999</td>\n",
       "      <td>70798000.0</td>\n",
       "      <td>90.606438</td>\n",
       "    </tr>\n",
       "  </tbody>\n",
       "</table>\n",
       "</div>"
      ],
      "text/plain": [
       "                  High         Low        Open       Close      Volume  \\\n",
       "Date                                                                     \n",
       "2016-01-04  105.370003  102.000000  102.610001  105.349998  67649400.0   \n",
       "2016-01-05  105.849998  102.410004  105.750000  102.709999  55791000.0   \n",
       "2016-01-06  102.370003   99.870003  100.559998  100.699997  68457400.0   \n",
       "2016-01-07  100.129997   96.430000   98.680000   96.449997  81094400.0   \n",
       "2016-01-08   99.110001   96.760002   98.550003   96.959999  70798000.0   \n",
       "\n",
       "            Adj Close  \n",
       "Date                   \n",
       "2016-01-04  98.446655  \n",
       "2016-01-05  95.979675  \n",
       "2016-01-06  94.101387  \n",
       "2016-01-07  90.129868  \n",
       "2016-01-08  90.606438  "
      ]
     },
     "execution_count": 6,
     "metadata": {},
     "output_type": "execute_result"
    }
   ],
   "source": [
    "train_df.head()"
   ]
  },
  {
   "cell_type": "code",
   "execution_count": 7,
   "metadata": {},
   "outputs": [],
   "source": [
    "test_df = apple.tail(21)#December Apple stock and our test set"
   ]
  },
  {
   "cell_type": "code",
   "execution_count": null,
   "metadata": {},
   "outputs": [],
   "source": []
  },
  {
   "cell_type": "code",
   "execution_count": 10,
   "metadata": {},
   "outputs": [],
   "source": [
    "real_stock_price = train_df.iloc[:, 3:4].values#Using the closing price"
   ]
  },
  {
   "cell_type": "code",
   "execution_count": 43,
   "metadata": {},
   "outputs": [
    {
     "data": {
      "text/plain": [
       "1006"
      ]
     },
     "execution_count": 43,
     "metadata": {},
     "output_type": "execute_result"
    }
   ],
   "source": [
    "len(real_stock_price)"
   ]
  },
  {
   "cell_type": "code",
   "execution_count": 11,
   "metadata": {},
   "outputs": [],
   "source": [
    "# we are using the inline backend\n",
    "%matplotlib inline \n",
    "\n",
    "import matplotlib as mpl\n",
    "import matplotlib.pyplot as plt"
   ]
  },
  {
   "cell_type": "code",
   "execution_count": 28,
   "metadata": {},
   "outputs": [
    {
     "data": {
      "image/png": "[encoded data removed]",
      "text/plain": [
       "<Figure size 432x288 with 1 Axes>"
      ]
     },
     "metadata": {
      "needs_background": "light"
     },
     "output_type": "display_data"
    }
   ],
   "source": [
    "# Visualising the stocks\n",
    "plt.plot(real_stock_price, color = 'red', label = 'Real Apple Stock Price')\n",
    "plt.xlabel('Time')\n",
    "plt.ylabel('Apple Stock Price')\n",
    "plt.legend()\n",
    "plt.show()"
   ]
  },
  {
   "cell_type": "code",
   "execution_count": 36,
   "metadata": {},
   "outputs": [],
   "source": [
    "real_stock_price = apple['Close']"
   ]
  },
  {
   "cell_type": "code",
   "execution_count": 13,
   "metadata": {},
   "outputs": [
    {
     "data": {
      "image/png": "[encoded data removed]",
      "text/plain": [
       "<Figure size 1008x576 with 1 Axes>"
      ]
     },
     "metadata": {
      "needs_background": "light"
     },
     "output_type": "display_data"
    }
   ],
   "source": [
    "real_stock_price.plot(kind = 'line', figsize = (14,8),color = 'red', label = 'Real Close Apple Stock Price')\n",
    "plt.xlabel('Time')\n",
    "plt.ylabel('Apple Stock Price')\n",
    "plt.legend()\n",
    "plt.show()"
   ]
  },
  {
   "cell_type": "code",
   "execution_count": 14,
   "metadata": {},
   "outputs": [],
   "source": [
    "# Trainign and testing sets using the closing stock prices\n",
    "training_set = train_df.iloc[:, 3:4].values\n",
    "testing_set = test_df.iloc[:, 3:4].values"
   ]
  },
  {
   "cell_type": "code",
   "execution_count": 31,
   "metadata": {},
   "outputs": [
    {
     "data": {
      "text/plain": [
       "(985, 6)"
      ]
     },
     "execution_count": 31,
     "metadata": {},
     "output_type": "execute_result"
    }
   ],
   "source": [
    "train_df.shape"
   ]
  },
  {
   "cell_type": "code",
   "execution_count": 15,
   "metadata": {},
   "outputs": [],
   "source": [
    "# Feature Scaling\n",
    "#MinMax scaler is found to be more optimal for any sigmoidal activation function\n",
    "from sklearn.preprocessing import MinMaxScaler\n",
    "sc = MinMaxScaler(feature_range = (0, 1))\n",
    "training_set_scaled = sc.fit_transform(training_set)"
   ]
  },
  {
   "cell_type": "code",
   "execution_count": 16,
   "metadata": {},
   "outputs": [],
   "source": [
    "# Creating a data structure with 60 timesteps and 1 output\n",
    "X_train = []\n",
    "y_train = []\n",
    "for i in range(60, 985):\n",
    "    X_train.append(training_set_scaled[i-60:i, 0])#all previous 60 time-steps\n",
    "    y_train.append(training_set_scaled[i, 0])#the next time step after previous 60 time steps\n",
    "X_train, y_train = np.array(X_train), np.array(y_train)#convert to np.array"
   ]
  },
  {
   "cell_type": "code",
   "execution_count": 17,
   "metadata": {},
   "outputs": [],
   "source": [
    "#Resshaping to get 3-d tensor form needed by RNN\n",
    "#First dim - total no of input observations ie prices from 2016 throu 2019-Nov\n",
    "#Second dim - no of time steps to predict a given observation\n",
    "#3rd dim- Indicators which here is one considering only close prices. Could include open, volume etc\n",
    "X_train = np.reshape(X_train, (X_train.shape[0], X_train.shape[1], 1))"
   ]
  },
  {
   "cell_type": "markdown",
   "metadata": {},
   "source": [
    "### Building RNN"
   ]
  },
  {
   "cell_type": "code",
   "execution_count": 18,
   "metadata": {},
   "outputs": [
    {
     "name": "stderr",
     "output_type": "stream",
     "text": [
      "Using TensorFlow backend.\n",
      "C:\\Users\\chiji\\AppData\\Local\\Continuum\\anaconda3\\lib\\site-packages\\tensorflow\\python\\framework\\dtypes.py:526: FutureWarning: Passing (type, 1) or '1type' as a synonym of type is deprecated; in a future version of numpy, it will be understood as (type, (1,)) / '(1,)type'.\n",
      "  _np_qint8 = np.dtype([(\"qint8\", np.int8, 1)])\n",
      "C:\\Users\\chiji\\AppData\\Local\\Continuum\\anaconda3\\lib\\site-packages\\tensorflow\\python\\framework\\dtypes.py:527: FutureWarning: Passing (type, 1) or '1type' as a synonym of type is deprecated; in a future version of numpy, it will be understood as (type, (1,)) / '(1,)type'.\n",
      "  _np_quint8 = np.dtype([(\"quint8\", np.uint8, 1)])\n",
      "C:\\Users\\chiji\\AppData\\Local\\Continuum\\anaconda3\\lib\\site-packages\\tensorflow\\python\\framework\\dtypes.py:528: FutureWarning: Passing (type, 1) or '1type' as a synonym of type is deprecated; in a future version of numpy, it will be understood as (type, (1,)) / '(1,)type'.\n",
      "  _np_qint16 = np.dtype([(\"qint16\", np.int16, 1)])\n",
      "C:\\Users\\chiji\\AppData\\Local\\Continuum\\anaconda3\\lib\\site-packages\\tensorflow\\python\\framework\\dtypes.py:529: FutureWarning: Passing (type, 1) or '1type' as a synonym of type is deprecated; in a future version of numpy, it will be understood as (type, (1,)) / '(1,)type'.\n",
      "  _np_quint16 = np.dtype([(\"quint16\", np.uint16, 1)])\n",
      "C:\\Users\\chiji\\AppData\\Local\\Continuum\\anaconda3\\lib\\site-packages\\tensorflow\\python\\framework\\dtypes.py:530: FutureWarning: Passing (type, 1) or '1type' as a synonym of type is deprecated; in a future version of numpy, it will be understood as (type, (1,)) / '(1,)type'.\n",
      "  _np_qint32 = np.dtype([(\"qint32\", np.int32, 1)])\n",
      "C:\\Users\\chiji\\AppData\\Local\\Continuum\\anaconda3\\lib\\site-packages\\tensorflow\\python\\framework\\dtypes.py:535: FutureWarning: Passing (type, 1) or '1type' as a synonym of type is deprecated; in a future version of numpy, it will be understood as (type, (1,)) / '(1,)type'.\n",
      "  np_resource = np.dtype([(\"resource\", np.ubyte, 1)])\n"
     ]
    }
   ],
   "source": [
    "# Importing the Keras libraries and packages\n",
    "import keras\n",
    "from keras.models import Sequential\n",
    "from keras.layers import Dense\n",
    "from keras.layers import LSTM\n",
    "from keras.layers import Dropout"
   ]
  },
  {
   "cell_type": "code",
   "execution_count": 19,
   "metadata": {},
   "outputs": [],
   "source": [
    "# Initialising the RNN\n",
    "regressor = Sequential()#regressing because we are predicting a continuous value"
   ]
  },
  {
   "cell_type": "code",
   "execution_count": 20,
   "metadata": {},
   "outputs": [
    {
     "name": "stdout",
     "output_type": "stream",
     "text": [
      "WARNING:tensorflow:From C:\\Users\\chiji\\AppData\\Local\\Continuum\\anaconda3\\lib\\site-packages\\tensorflow\\python\\ops\\resource_variable_ops.py:435: colocate_with (from tensorflow.python.framework.ops) is deprecated and will be removed in a future version.\n",
      "Instructions for updating:\n",
      "Colocations handled automatically by placer.\n"
     ]
    }
   ],
   "source": [
    "# Adding the first LSTM layer and some Dropout regularisation\n",
    "regressor.add(LSTM(units = 50, return_sequences = True, input_shape = (X_train.shape[1], 1)))\n",
    "regressor.add(Dropout(0.2))#Rate of neurons to drop out in each backpropagation,here 20%"
   ]
  },
  {
   "cell_type": "code",
   "execution_count": 21,
   "metadata": {},
   "outputs": [],
   "source": [
    "# Adding a second LSTM layer and some Dropout regularisation\n",
    "regressor.add(LSTM(units = 50, return_sequences = True))\n",
    "regressor.add(Dropout(0.2))"
   ]
  },
  {
   "cell_type": "code",
   "execution_count": 22,
   "metadata": {},
   "outputs": [],
   "source": [
    "# Adding a third LSTM layer and some Dropout regularisation\n",
    "regressor.add(LSTM(units = 50, return_sequences = True))\n",
    "regressor.add(Dropout(0.2))"
   ]
  },
  {
   "cell_type": "code",
   "execution_count": 23,
   "metadata": {},
   "outputs": [],
   "source": [
    "# Adding a fourth LSTM layer and some Dropout regularisation\n",
    "regressor.add(LSTM(units = 50))\n",
    "regressor.add(Dropout(0.2))"
   ]
  },
  {
   "cell_type": "code",
   "execution_count": 24,
   "metadata": {},
   "outputs": [],
   "source": [
    "# Adding the output layer\n",
    "regressor.add(Dense(units = 1))"
   ]
  },
  {
   "cell_type": "code",
   "execution_count": 25,
   "metadata": {},
   "outputs": [],
   "source": [
    "# Compiling the RNN\n",
    "regressor.compile(optimizer = 'adam', loss = 'mean_squared_error')"
   ]
  },
  {
   "cell_type": "code",
   "execution_count": 26,
   "metadata": {},
   "outputs": [
    {
     "name": "stdout",
     "output_type": "stream",
     "text": [
      "WARNING:tensorflow:From C:\\Users\\chiji\\AppData\\Local\\Continuum\\anaconda3\\lib\\site-packages\\tensorflow\\python\\ops\\math_ops.py:3066: to_int32 (from tensorflow.python.ops.math_ops) is deprecated and will be removed in a future version.\n",
      "Instructions for updating:\n",
      "Use tf.cast instead.\n",
      "Epoch 1/100\n",
      "925/925 [==============================] - 4s 4ms/step - loss: 0.0398\n",
      "Epoch 2/100\n",
      "925/925 [==============================] - 2s 2ms/step - loss: 0.0073\n",
      "Epoch 3/100\n",
      "925/925 [==============================] - 2s 2ms/step - loss: 0.0053\n",
      "Epoch 4/100\n",
      "925/925 [==============================] - 2s 2ms/step - loss: 0.0052\n",
      "Epoch 5/100\n",
      "925/925 [==============================] - 2s 2ms/step - loss: 0.0052\n",
      "Epoch 6/100\n",
      "925/925 [==============================] - 2s 2ms/step - loss: 0.0045\n",
      "Epoch 7/100\n",
      "925/925 [==============================] - 2s 2ms/step - loss: 0.0045\n",
      "Epoch 8/100\n",
      "925/925 [==============================] - 2s 2ms/step - loss: 0.0042\n",
      "Epoch 9/100\n",
      "925/925 [==============================] - 2s 2ms/step - loss: 0.0042\n",
      "Epoch 10/100\n",
      "925/925 [==============================] - 2s 2ms/step - loss: 0.0036\n",
      "Epoch 11/100\n",
      "925/925 [==============================] - 2s 2ms/step - loss: 0.0043\n",
      "Epoch 12/100\n",
      "925/925 [==============================] - 2s 2ms/step - loss: 0.0036\n",
      "Epoch 13/100\n",
      "925/925 [==============================] - 2s 2ms/step - loss: 0.0037\n",
      "Epoch 14/100\n",
      "925/925 [==============================] - 2s 2ms/step - loss: 0.0036\n",
      "Epoch 15/100\n",
      "925/925 [==============================] - 2s 2ms/step - loss: 0.0035\n",
      "Epoch 16/100\n",
      "925/925 [==============================] - 2s 2ms/step - loss: 0.0031\n",
      "Epoch 17/100\n",
      "925/925 [==============================] - 2s 2ms/step - loss: 0.0033\n",
      "Epoch 18/100\n",
      "925/925 [==============================] - 2s 2ms/step - loss: 0.0031\n",
      "Epoch 19/100\n",
      "925/925 [==============================] - 2s 2ms/step - loss: 0.0030\n",
      "Epoch 20/100\n",
      "925/925 [==============================] - 2s 2ms/step - loss: 0.0029\n",
      "Epoch 21/100\n",
      "925/925 [==============================] - 2s 2ms/step - loss: 0.0026\n",
      "Epoch 22/100\n",
      "925/925 [==============================] - 2s 2ms/step - loss: 0.0028\n",
      "Epoch 23/100\n",
      "925/925 [==============================] - 2s 2ms/step - loss: 0.0032\n",
      "Epoch 24/100\n",
      "925/925 [==============================] - 2s 2ms/step - loss: 0.0032\n",
      "Epoch 25/100\n",
      "925/925 [==============================] - 2s 2ms/step - loss: 0.0032\n",
      "Epoch 26/100\n",
      "925/925 [==============================] - 2s 2ms/step - loss: 0.0025\n",
      "Epoch 27/100\n",
      "925/925 [==============================] - 2s 2ms/step - loss: 0.0027\n",
      "Epoch 28/100\n",
      "925/925 [==============================] - 2s 2ms/step - loss: 0.0027\n",
      "Epoch 29/100\n",
      "925/925 [==============================] - 2s 2ms/step - loss: 0.0026\n",
      "Epoch 30/100\n",
      "925/925 [==============================] - 2s 2ms/step - loss: 0.0027\n",
      "Epoch 31/100\n",
      "925/925 [==============================] - 2s 2ms/step - loss: 0.0027\n",
      "Epoch 32/100\n",
      "925/925 [==============================] - 2s 2ms/step - loss: 0.0027\n",
      "Epoch 33/100\n",
      "925/925 [==============================] - 2s 2ms/step - loss: 0.0025\n",
      "Epoch 34/100\n",
      "925/925 [==============================] - 2s 2ms/step - loss: 0.0026\n",
      "Epoch 35/100\n",
      "925/925 [==============================] - 2s 2ms/step - loss: 0.0024\n",
      "Epoch 36/100\n",
      "925/925 [==============================] - 2s 2ms/step - loss: 0.0024\n",
      "Epoch 37/100\n",
      "925/925 [==============================] - 2s 2ms/step - loss: 0.0028\n",
      "Epoch 38/100\n",
      "925/925 [==============================] - 2s 2ms/step - loss: 0.0022\n",
      "Epoch 39/100\n",
      "925/925 [==============================] - 2s 2ms/step - loss: 0.0023\n",
      "Epoch 40/100\n",
      "925/925 [==============================] - 2s 2ms/step - loss: 0.0023\n",
      "Epoch 41/100\n",
      "925/925 [==============================] - 2s 2ms/step - loss: 0.0023\n",
      "Epoch 42/100\n",
      "925/925 [==============================] - 2s 2ms/step - loss: 0.0025\n",
      "Epoch 43/100\n",
      "925/925 [==============================] - 2s 2ms/step - loss: 0.0023\n",
      "Epoch 44/100\n",
      "925/925 [==============================] - 2s 2ms/step - loss: 0.0022\n",
      "Epoch 45/100\n",
      "925/925 [==============================] - 2s 2ms/step - loss: 0.0025\n",
      "Epoch 46/100\n",
      "925/925 [==============================] - 2s 2ms/step - loss: 0.0022\n",
      "Epoch 47/100\n",
      "925/925 [==============================] - 2s 2ms/step - loss: 0.0023\n",
      "Epoch 48/100\n",
      "925/925 [==============================] - 2s 2ms/step - loss: 0.0020\n",
      "Epoch 49/100\n",
      "925/925 [==============================] - 2s 2ms/step - loss: 0.0020\n",
      "Epoch 50/100\n",
      "925/925 [==============================] - 2s 2ms/step - loss: 0.0019\n",
      "Epoch 51/100\n",
      "925/925 [==============================] - 2s 2ms/step - loss: 0.0021\n",
      "Epoch 52/100\n",
      "925/925 [==============================] - 2s 2ms/step - loss: 0.0018\n",
      "Epoch 53/100\n",
      "925/925 [==============================] - 2s 2ms/step - loss: 0.0019\n",
      "Epoch 54/100\n",
      "925/925 [==============================] - 2s 2ms/step - loss: 0.0019\n",
      "Epoch 55/100\n",
      "925/925 [==============================] - 2s 2ms/step - loss: 0.0018\n",
      "Epoch 56/100\n",
      "925/925 [==============================] - 2s 2ms/step - loss: 0.0020\n",
      "Epoch 57/100\n",
      "925/925 [==============================] - 2s 2ms/step - loss: 0.0020\n",
      "Epoch 58/100\n",
      "925/925 [==============================] - 2s 2ms/step - loss: 0.0019\n",
      "Epoch 59/100\n",
      "925/925 [==============================] - 2s 2ms/step - loss: 0.0019\n",
      "Epoch 60/100\n",
      "925/925 [==============================] - 2s 2ms/step - loss: 0.0017\n",
      "Epoch 61/100\n",
      "925/925 [==============================] - 2s 2ms/step - loss: 0.0014\n",
      "Epoch 62/100\n",
      "925/925 [==============================] - 2s 2ms/step - loss: 0.0018\n",
      "Epoch 63/100\n",
      "925/925 [==============================] - 2s 2ms/step - loss: 0.0017\n",
      "Epoch 64/100\n",
      "925/925 [==============================] - 2s 2ms/step - loss: 0.0019\n",
      "Epoch 65/100\n",
      "925/925 [==============================] - 2s 2ms/step - loss: 0.0015\n",
      "Epoch 66/100\n",
      "925/925 [==============================] - 2s 2ms/step - loss: 0.0015\n",
      "Epoch 67/100\n",
      "925/925 [==============================] - 2s 2ms/step - loss: 0.0017\n",
      "Epoch 68/100\n",
      "925/925 [==============================] - 2s 2ms/step - loss: 0.0015\n",
      "Epoch 69/100\n",
      "925/925 [==============================] - 2s 2ms/step - loss: 0.0015\n",
      "Epoch 70/100\n",
      "925/925 [==============================] - 2s 2ms/step - loss: 0.0015\n",
      "Epoch 71/100\n",
      "925/925 [==============================] - 2s 2ms/step - loss: 0.0017\n",
      "Epoch 72/100\n",
      "925/925 [==============================] - 2s 2ms/step - loss: 0.0015\n",
      "Epoch 73/100\n",
      "925/925 [==============================] - 2s 2ms/step - loss: 0.0016\n",
      "Epoch 74/100\n",
      "925/925 [==============================] - 2s 2ms/step - loss: 0.0019\n",
      "Epoch 75/100\n",
      "925/925 [==============================] - 2s 2ms/step - loss: 0.0014\n",
      "Epoch 76/100\n",
      "925/925 [==============================] - 2s 2ms/step - loss: 0.0015\n",
      "Epoch 77/100\n",
      "925/925 [==============================] - 2s 2ms/step - loss: 0.0017\n",
      "Epoch 78/100\n",
      "925/925 [==============================] - 2s 2ms/step - loss: 0.0017\n",
      "Epoch 79/100\n",
      "925/925 [==============================] - 2s 2ms/step - loss: 0.0016\n",
      "Epoch 80/100\n",
      "925/925 [==============================] - 2s 2ms/step - loss: 0.0014\n",
      "Epoch 81/100\n",
      "925/925 [==============================] - 2s 2ms/step - loss: 0.0018\n",
      "Epoch 82/100\n",
      "925/925 [==============================] - 2s 2ms/step - loss: 0.0017\n",
      "Epoch 83/100\n",
      "925/925 [==============================] - 2s 2ms/step - loss: 0.0014\n",
      "Epoch 84/100\n",
      "925/925 [==============================] - 2s 2ms/step - loss: 0.0014\n",
      "Epoch 85/100\n",
      "925/925 [==============================] - 2s 2ms/step - loss: 0.0014\n",
      "Epoch 86/100\n",
      "925/925 [==============================] - 2s 2ms/step - loss: 0.0014\n",
      "Epoch 87/100\n",
      "925/925 [==============================] - 2s 2ms/step - loss: 0.0012\n",
      "Epoch 88/100\n",
      "925/925 [==============================] - 2s 2ms/step - loss: 0.0015\n",
      "Epoch 89/100\n",
      "925/925 [==============================] - 2s 2ms/step - loss: 0.0015\n",
      "Epoch 90/100\n",
      "925/925 [==============================] - 2s 2ms/step - loss: 0.0014\n",
      "Epoch 91/100\n",
      "925/925 [==============================] - 2s 2ms/step - loss: 0.0012\n",
      "Epoch 92/100\n",
      "925/925 [==============================] - 2s 2ms/step - loss: 0.0014\n",
      "Epoch 93/100\n",
      "925/925 [==============================] - 2s 2ms/step - loss: 0.0013\n",
      "Epoch 94/100\n",
      "925/925 [==============================] - 2s 2ms/step - loss: 0.0013\n",
      "Epoch 95/100\n",
      "925/925 [==============================] - 2s 2ms/step - loss: 0.0012\n",
      "Epoch 96/100\n"
     ]
    },
    {
     "name": "stdout",
     "output_type": "stream",
     "text": [
      "925/925 [==============================] - 2s 2ms/step - loss: 0.0013\n",
      "Epoch 97/100\n",
      "925/925 [==============================] - 2s 2ms/step - loss: 0.0013\n",
      "Epoch 98/100\n",
      "925/925 [==============================] - 2s 2ms/step - loss: 0.0015\n",
      "Epoch 99/100\n",
      "925/925 [==============================] - 2s 2ms/step - loss: 0.0013\n",
      "Epoch 100/100\n",
      "925/925 [==============================] - 2s 2ms/step - loss: 0.0012\n"
     ]
    },
    {
     "data": {
      "text/plain": [
       "<keras.callbacks.callbacks.History at 0x1cb0d6e8ef0>"
      ]
     },
     "execution_count": 26,
     "metadata": {},
     "output_type": "execute_result"
    }
   ],
   "source": [
    "# Fitting the RNN to the Training set\n",
    "regressor.fit(X_train, y_train, epochs = 100, batch_size = 32)"
   ]
  },
  {
   "cell_type": "code",
   "execution_count": null,
   "metadata": {},
   "outputs": [],
   "source": []
  },
  {
   "cell_type": "markdown",
   "metadata": {},
   "source": [
    "### Getting the predicted stock price of December 2019 using trained model"
   ]
  },
  {
   "cell_type": "code",
   "execution_count": 27,
   "metadata": {},
   "outputs": [],
   "source": [
    "# Get all the datasets (train and test df into one dataframe)\n",
    "dataset_total = pd.concat((train_df['Close'], test_df['Close']), axis = 0)#same as dataframe 'apple'"
   ]
  },
  {
   "cell_type": "code",
   "execution_count": 44,
   "metadata": {},
   "outputs": [
    {
     "data": {
      "text/plain": [
       "(1006,)"
      ]
     },
     "execution_count": 44,
     "metadata": {},
     "output_type": "execute_result"
    }
   ],
   "source": [
    "dataset_total.shape"
   ]
  },
  {
   "cell_type": "code",
   "execution_count": 29,
   "metadata": {},
   "outputs": [
    {
     "data": {
      "text/plain": [
       "985"
      ]
     },
     "execution_count": 29,
     "metadata": {},
     "output_type": "execute_result"
    }
   ],
   "source": [
    "len(dataset_total) - len(test_df)# - 60:"
   ]
  },
  {
   "cell_type": "code",
   "execution_count": 30,
   "metadata": {},
   "outputs": [],
   "source": [
    "#find the needed dataset for predicting the December stocks\n",
    "inputs = dataset_total[len(dataset_total) - len(test_df) - 60:].values"
   ]
  },
  {
   "cell_type": "code",
   "execution_count": 31,
   "metadata": {},
   "outputs": [],
   "source": [
    "##make necessary transformation of this new dataset including reshaping and scaling using MinMx Scaler object\n",
    "inputs = inputs.reshape(-1,1)\n",
    "inputs = sc.transform(inputs)"
   ]
  },
  {
   "cell_type": "code",
   "execution_count": 32,
   "metadata": {},
   "outputs": [],
   "source": [
    "#Get the Xtest which will have for each day of december 2019, the preceeding 60 days before it\n",
    "X_test = []\n",
    "for i in range(60, 81):\n",
    "    X_test.append(inputs[i-60:i, 0])"
   ]
  },
  {
   "cell_type": "code",
   "execution_count": 33,
   "metadata": {},
   "outputs": [],
   "source": [
    "#reshape\n",
    "X_test = np.array(X_test)\n",
    "X_test = np.reshape(X_test, (X_test.shape[0], X_test.shape[1], 1))"
   ]
  },
  {
   "cell_type": "code",
   "execution_count": 34,
   "metadata": {},
   "outputs": [],
   "source": [
    "#Make predictions and transfer back to normal values for comparable visualization\n",
    "predicted_stock_price = regressor.predict(X_test)\n",
    "predicted_stock_price = sc.inverse_transform(predicted_stock_price)"
   ]
  },
  {
   "cell_type": "code",
   "execution_count": 48,
   "metadata": {},
   "outputs": [],
   "source": [
    "real_stock_price = test_df['Close']#Using the closing price of the test set"
   ]
  },
  {
   "cell_type": "code",
   "execution_count": 49,
   "metadata": {},
   "outputs": [
    {
     "data": {
      "text/plain": [
       "21"
      ]
     },
     "execution_count": 49,
     "metadata": {},
     "output_type": "execute_result"
    }
   ],
   "source": [
    "len(real_stock_price.index)"
   ]
  },
  {
   "cell_type": "code",
   "execution_count": 39,
   "metadata": {},
   "outputs": [
    {
     "data": {
      "text/plain": [
       "(21, 1)"
      ]
     },
     "execution_count": 39,
     "metadata": {},
     "output_type": "execute_result"
    }
   ],
   "source": [
    "predicted_stock_price.shape"
   ]
  },
  {
   "cell_type": "code",
   "execution_count": 50,
   "metadata": {},
   "outputs": [],
   "source": [
    "#put it in a datetime dataframe\n",
    "predicted = pd.DataFrame(predicted_stock_price, index = real_stock_price.index)"
   ]
  },
  {
   "cell_type": "code",
   "execution_count": 59,
   "metadata": {},
   "outputs": [],
   "source": [
    "#predicted[0]"
   ]
  },
  {
   "cell_type": "code",
   "execution_count": 51,
   "metadata": {},
   "outputs": [],
   "source": [
    "#Combine two dataframess into one\n",
    "predicted_Real = pd.concat([real_stock_price,predicted[0]],axis = 1)"
   ]
  },
  {
   "cell_type": "code",
   "execution_count": 52,
   "metadata": {},
   "outputs": [],
   "source": [
    "#Rename the two columns\n",
    "predicted_Real.rename(columns = {'Close':'Real Apple Stock', 0:'Predicted Apple Stock'}, inplace = True)"
   ]
  },
  {
   "cell_type": "code",
   "execution_count": 53,
   "metadata": {},
   "outputs": [
    {
     "data": {
      "text/html": [
       "<div>\n",
       "<style scoped>\n",
       "    .dataframe tbody tr th:only-of-type {\n",
       "        vertical-align: middle;\n",
       "    }\n",
       "\n",
       "    .dataframe tbody tr th {\n",
       "        vertical-align: top;\n",
       "    }\n",
       "\n",
       "    .dataframe thead th {\n",
       "        text-align: right;\n",
       "    }\n",
       "</style>\n",
       "<table border=\"1\" class=\"dataframe\">\n",
       "  <thead>\n",
       "    <tr style=\"text-align: right;\">\n",
       "      <th></th>\n",
       "      <th>Real Apple Stock</th>\n",
       "      <th>Predicted Apple Stock</th>\n",
       "    </tr>\n",
       "    <tr>\n",
       "      <th>Date</th>\n",
       "      <th></th>\n",
       "      <th></th>\n",
       "    </tr>\n",
       "  </thead>\n",
       "  <tbody>\n",
       "    <tr>\n",
       "      <th>2019-12-02</th>\n",
       "      <td>264.160004</td>\n",
       "      <td>264.744415</td>\n",
       "    </tr>\n",
       "    <tr>\n",
       "      <th>2019-12-03</th>\n",
       "      <td>259.450012</td>\n",
       "      <td>265.420349</td>\n",
       "    </tr>\n",
       "    <tr>\n",
       "      <th>2019-12-04</th>\n",
       "      <td>261.739990</td>\n",
       "      <td>264.420502</td>\n",
       "    </tr>\n",
       "    <tr>\n",
       "      <th>2019-12-05</th>\n",
       "      <td>265.579987</td>\n",
       "      <td>262.576813</td>\n",
       "    </tr>\n",
       "    <tr>\n",
       "      <th>2019-12-06</th>\n",
       "      <td>270.709991</td>\n",
       "      <td>261.401520</td>\n",
       "    </tr>\n",
       "  </tbody>\n",
       "</table>\n",
       "</div>"
      ],
      "text/plain": [
       "            Real Apple Stock  Predicted Apple Stock\n",
       "Date                                               \n",
       "2019-12-02        264.160004             264.744415\n",
       "2019-12-03        259.450012             265.420349\n",
       "2019-12-04        261.739990             264.420502\n",
       "2019-12-05        265.579987             262.576813\n",
       "2019-12-06        270.709991             261.401520"
      ]
     },
     "execution_count": 53,
     "metadata": {},
     "output_type": "execute_result"
    }
   ],
   "source": [
    "predicted_Real.head()"
   ]
  },
  {
   "cell_type": "code",
   "execution_count": 53,
   "metadata": {},
   "outputs": [
    {
     "data": {
      "text/plain": [
       "21"
      ]
     },
     "execution_count": 53,
     "metadata": {},
     "output_type": "execute_result"
    }
   ],
   "source": [
    "len(predicted.values)"
   ]
  },
  {
   "cell_type": "code",
   "execution_count": 37,
   "metadata": {},
   "outputs": [],
   "source": [
    "real_stock_price = test_df.iloc[:, 3:4].values"
   ]
  },
  {
   "cell_type": "code",
   "execution_count": 41,
   "metadata": {},
   "outputs": [],
   "source": [
    "real_stock_price = test_df['Close']"
   ]
  },
  {
   "cell_type": "code",
   "execution_count": 38,
   "metadata": {},
   "outputs": [
    {
     "data": {
      "text/plain": [
       "21"
      ]
     },
     "execution_count": 38,
     "metadata": {},
     "output_type": "execute_result"
    }
   ],
   "source": [
    "len(real_stock_price)"
   ]
  },
  {
   "cell_type": "code",
   "execution_count": 67,
   "metadata": {
    "scrolled": false
   },
   "outputs": [
    {
     "data": {
      "image/png": "[encoded data removed]",
      "text/plain": [
       "<Figure size 1008x576 with 1 Axes>"
      ]
     },
     "metadata": {
      "needs_background": "light"
     },
     "output_type": "display_data"
    }
   ],
   "source": [
    "# Visualising the results\n",
    "predicted_Real.plot(kind = 'line', figsize = (14,8))\n",
    "#plt.plot(predicted.values, color = 'blue', label = 'Predicted Apple Stock Price')\n",
    "plt.title('Apple Stock Price Prediction')\n",
    "plt.xlabel('Time')\n",
    "plt.ylabel('Apple Stock Price')\n",
    "plt.legend()\n",
    "plt.show()"
   ]
  },
  {
   "cell_type": "code",
   "execution_count": 54,
   "metadata": {},
   "outputs": [],
   "source": [
    "#save the model as pickle\n",
    "import pickle"
   ]
  },
  {
   "cell_type": "code",
   "execution_count": 60,
   "metadata": {},
   "outputs": [],
   "source": [
    "StockRNNModel = 'CapstoneProject/StockRNNModel.pkl'#zCreate a file path\n",
    "pickle.dump(regressor, open(StockRNNModel, 'wb'))#Write the model into the file path"
   ]
  },
  {
   "cell_type": "code",
   "execution_count": 62,
   "metadata": {},
   "outputs": [],
   "source": [
    "#StockRNNModel.close()"
   ]
  },
  {
   "cell_type": "code",
   "execution_count": null,
   "metadata": {},
   "outputs": [],
   "source": [
    "#To import the model"
   ]
  },
  {
   "cell_type": "code",
   "execution_count": 64,
   "metadata": {},
   "outputs": [],
   "source": [
    "from flask import Flask\n",
    "from flask import render_template, request, jsonify\n",
    "#from plotly.graph_objs import Bar\n",
    "from sklearn.externals import joblib\n",
    "from sqlalchemy import create_engine"
   ]
  },
  {
   "cell_type": "code",
   "execution_count": 65,
   "metadata": {},
   "outputs": [],
   "source": [
    "#Use joblib to import\n",
    "modelReg = joblib.load(\"CapstoneProject/StockRNNModel.pkl\")"
   ]
  },
  {
   "cell_type": "code",
   "execution_count": 66,
   "metadata": {},
   "outputs": [],
   "source": [
    "### Using non-neural network methods"
   ]
  },
  {
   "cell_type": "code",
   "execution_count": null,
   "metadata": {},
   "outputs": [],
   "source": [
    "X_train1 = train_df['Close']"
   ]
  },
  {
   "cell_type": "code",
   "execution_count": 71,
   "metadata": {},
   "outputs": [
    {
     "data": {
      "text/html": [
       "<div>\n",
       "<style scoped>\n",
       "    .dataframe tbody tr th:only-of-type {\n",
       "        vertical-align: middle;\n",
       "    }\n",
       "\n",
       "    .dataframe tbody tr th {\n",
       "        vertical-align: top;\n",
       "    }\n",
       "\n",
       "    .dataframe thead th {\n",
       "        text-align: right;\n",
       "    }\n",
       "</style>\n",
       "<table border=\"1\" class=\"dataframe\">\n",
       "  <thead>\n",
       "    <tr style=\"text-align: right;\">\n",
       "      <th></th>\n",
       "      <th>High</th>\n",
       "      <th>Low</th>\n",
       "      <th>Open</th>\n",
       "      <th>Close</th>\n",
       "      <th>Volume</th>\n",
       "      <th>Adj Close</th>\n",
       "    </tr>\n",
       "    <tr>\n",
       "      <th>Date</th>\n",
       "      <th></th>\n",
       "      <th></th>\n",
       "      <th></th>\n",
       "      <th></th>\n",
       "      <th></th>\n",
       "      <th></th>\n",
       "    </tr>\n",
       "  </thead>\n",
       "  <tbody>\n",
       "    <tr>\n",
       "      <th>2016-01-04</th>\n",
       "      <td>744.059998</td>\n",
       "      <td>731.257996</td>\n",
       "      <td>743.000000</td>\n",
       "      <td>741.840027</td>\n",
       "      <td>3272800</td>\n",
       "      <td>741.840027</td>\n",
       "    </tr>\n",
       "    <tr>\n",
       "      <th>2016-01-05</th>\n",
       "      <td>752.000000</td>\n",
       "      <td>738.640015</td>\n",
       "      <td>746.450012</td>\n",
       "      <td>742.580017</td>\n",
       "      <td>1950700</td>\n",
       "      <td>742.580017</td>\n",
       "    </tr>\n",
       "    <tr>\n",
       "      <th>2016-01-06</th>\n",
       "      <td>747.179993</td>\n",
       "      <td>728.919983</td>\n",
       "      <td>730.000000</td>\n",
       "      <td>743.619995</td>\n",
       "      <td>1947000</td>\n",
       "      <td>743.619995</td>\n",
       "    </tr>\n",
       "    <tr>\n",
       "      <th>2016-01-07</th>\n",
       "      <td>738.500000</td>\n",
       "      <td>719.059998</td>\n",
       "      <td>730.309998</td>\n",
       "      <td>726.390015</td>\n",
       "      <td>2963700</td>\n",
       "      <td>726.390015</td>\n",
       "    </tr>\n",
       "    <tr>\n",
       "      <th>2016-01-08</th>\n",
       "      <td>733.229980</td>\n",
       "      <td>713.000000</td>\n",
       "      <td>731.450012</td>\n",
       "      <td>714.469971</td>\n",
       "      <td>2450900</td>\n",
       "      <td>714.469971</td>\n",
       "    </tr>\n",
       "  </tbody>\n",
       "</table>\n",
       "</div>"
      ],
      "text/plain": [
       "                  High         Low        Open       Close   Volume  \\\n",
       "Date                                                                  \n",
       "2016-01-04  744.059998  731.257996  743.000000  741.840027  3272800   \n",
       "2016-01-05  752.000000  738.640015  746.450012  742.580017  1950700   \n",
       "2016-01-06  747.179993  728.919983  730.000000  743.619995  1947000   \n",
       "2016-01-07  738.500000  719.059998  730.309998  726.390015  2963700   \n",
       "2016-01-08  733.229980  713.000000  731.450012  714.469971  2450900   \n",
       "\n",
       "             Adj Close  \n",
       "Date                    \n",
       "2016-01-04  741.840027  \n",
       "2016-01-05  742.580017  \n",
       "2016-01-06  743.619995  \n",
       "2016-01-07  726.390015  \n",
       "2016-01-08  714.469971  "
      ]
     },
     "execution_count": 71,
     "metadata": {},
     "output_type": "execute_result"
    }
   ],
   "source": [
    "google.head()"
   ]
  },
  {
   "cell_type": "code",
   "execution_count": 70,
   "metadata": {},
   "outputs": [
    {
     "data": {
      "text/plain": [
       "925"
      ]
     },
     "execution_count": 70,
     "metadata": {},
     "output_type": "execute_result"
    }
   ],
   "source": [
    "len(X_train)"
   ]
  },
  {
   "cell_type": "code",
   "execution_count": null,
   "metadata": {},
   "outputs": [],
   "source": []
  }
 ],
 "metadata": {
  "kernelspec": {
   "display_name": "Python 3",
   "language": "python",
   "name": "python3"
  },
  "language_info": {
   "codemirror_mode": {
    "name": "ipython",
    "version": 3
   },
   "file_extension": ".py",
   "mimetype": "text/x-python",
   "name": "python",
   "nbconvert_exporter": "python",
   "pygments_lexer": "ipython3",
   "version": "3.7.1"
  }
 },
 "nbformat": 4,
 "nbformat_minor": 2
}
